{
 "cells": [
  {
   "cell_type": "markdown",
   "metadata": {},
   "source": [
    "# Using the FRIGHT Age and AFRAID Score models"
   ]
  },
  {
   "cell_type": "markdown",
   "metadata": {},
   "source": [
    "#### Load the required packages"
   ]
  },
  {
   "cell_type": "code",
   "execution_count": null,
   "metadata": {
    "scrolled": true
   },
   "outputs": [],
   "source": [
    "from sklearn.externals import joblib\n",
    "import pandas as pd\n",
    "import numpy as np\n",
    "from scipy import stats\n",
    "import seaborn as sns"
   ]
  },
  {
   "cell_type": "markdown",
   "metadata": {},
   "source": [
    "#### Load sample data and split into control and methionine restricted groups"
   ]
  },
  {
   "cell_type": "code",
   "execution_count": null,
   "metadata": {},
   "outputs": [],
   "source": [
    "sampleData = pd.read_csv('sampleData.csv')\n",
    "controlData = sampleData[(sampleData['Group']=='Con')]\n",
    "mrData = sampleData[(sampleData['Group']=='MetR')]"
   ]
  },
  {
   "cell_type": "markdown",
   "metadata": {},
   "source": [
    "#### Load the model `.sav` files from the Github repository"
   ]
  },
  {
   "cell_type": "code",
   "execution_count": null,
   "metadata": {
    "scrolled": true
   },
   "outputs": [],
   "source": [
    "frightAge = joblib.load('fright_age.sav')\n",
    "afraidScore = joblib.load('afraid_score.sav')"
   ]
  },
  {
   "cell_type": "markdown",
   "metadata": {},
   "source": [
    "#### Initialize selection variables for models"
   ]
  },
  {
   "cell_type": "code",
   "execution_count": null,
   "metadata": {},
   "outputs": [],
   "source": [
    "frightVariables = ['Tail_stiffening',\n",
    " 'Breathing_rate_depth',\n",
    " 'Gait_disorders',\n",
    " 'Hearing_loss',\n",
    " 'Kyphosis',\n",
    " 'Tremor',\n",
    " 'Body_condition_score',\n",
    " 'Forelimb_grip_strength',\n",
    " '%twc',\n",
    " 'Menace_reflex',\n",
    " 'Alopecia',\n",
    " 'Tumours',\n",
    " 'Diarrhoea',\n",
    " 'Vaginal_uterine_penile_prolapse',\n",
    " 'Microphthalmia',\n",
    " 'Dermatitis',\n",
    " 'Rectal_prolapse',\n",
    " 'Distended_abdomen',\n",
    " 'Eye_discharge_swelling',\n",
    " 'Coat_condition',\n",
    " 'Body_Weight_Score']"
   ]
  },
  {
   "cell_type": "code",
   "execution_count": null,
   "metadata": {},
   "outputs": [],
   "source": [
    "afraidVariables = ['Body_Weight_Score',\n",
    " 'Alopecia',\n",
    " 'Loss_of_fur_colour',\n",
    " 'Dermatitis',\n",
    " 'Loss_of_whiskers',\n",
    " 'Coat_condition',\n",
    " 'Tumours',\n",
    " 'Distended_abdomen',\n",
    " 'Kyphosis',\n",
    " 'Tail_stiffening',\n",
    " 'Gait_disorders',\n",
    " 'Tremor',\n",
    " 'Forelimb_grip_strength',\n",
    " 'Body_condition_score',\n",
    " 'Vestibular_disturbance',\n",
    " 'Hearing_loss',\n",
    " 'Cataracts',\n",
    " 'Corneal_capacity',\n",
    " 'Eye_discharge_swelling',\n",
    " 'Microphthalmia',\n",
    " 'Vision_loss',\n",
    " 'Menace_reflex',\n",
    " 'Nasal_discharge',\n",
    " 'Rectal_prolapse',\n",
    " 'Vaginal_uterine_penile_prolapse',\n",
    " 'Diarrhoea',\n",
    " 'Breathing_rate_depth',\n",
    " 'Mouse_grimace_scale',\n",
    " 'Piloerection',\n",
    " '%twc',\n",
    " '%rwc',\n",
    " 'Thresh_%rwc',\n",
    " 'age_days']"
   ]
  },
  {
   "cell_type": "markdown",
   "metadata": {},
   "source": [
    "#### Print descriptive statistic for frailty index of the control and methionine restricted groups"
   ]
  },
  {
   "cell_type": "code",
   "execution_count": null,
   "metadata": {},
   "outputs": [],
   "source": [
    "print('Median (FI score)')\n",
    "print('Control: ', np.median(sampleData['FI']))\n",
    "print('MetR: ', np.median(mrData['FI']))\n",
    "print('Mean (FI score)')\n",
    "print('Control: ', np.mean(sampleData['FI']))\n",
    "print('MetR: ', np.mean(mrData['FI']))\n",
    "print('Standard deviation (FI score)')\n",
    "print('Control: ', np.std(sampleData['FI']))\n",
    "print('MetR: ', np.std(mrData['FI']))"
   ]
  },
  {
   "cell_type": "markdown",
   "metadata": {},
   "source": [
    "#### Compute FRIGHT age for control vs methionine restricted animals"
   ]
  },
  {
   "cell_type": "code",
   "execution_count": null,
   "metadata": {},
   "outputs": [],
   "source": [
    "frightControl = frightAge.predict(controlData[frightVariables])\n",
    "frightMr = frightAge.predict(mrData[frightVariables])"
   ]
  },
  {
   "cell_type": "code",
   "execution_count": null,
   "metadata": {},
   "outputs": [],
   "source": [
    "print('Median (months)')\n",
    "print('Control: ', np.median(frightControl/30.5))\n",
    "print('MetR: ', np.median(frightMr/30.5))\n",
    "print('Mean (months)')\n",
    "print('Control: ', np.mean(frightControl/30.5))\n",
    "print('MetR: ', np.mean(frightMr/30.5))\n",
    "print('Standard deviation (months)')\n",
    "print('Control: ', np.std(frightControl/30.5))\n",
    "print('MetR: ', np.std(frightMr/30.5))\n",
    "print('P-value')\n",
    "print(round(stats.ttest_ind(frightControl, frightMr).pvalue, 4))"
   ]
  },
  {
   "cell_type": "markdown",
   "metadata": {},
   "source": [
    "#### Create dataframe of FRIGHT ages and plot by group"
   ]
  },
  {
   "cell_type": "code",
   "execution_count": null,
   "metadata": {},
   "outputs": [],
   "source": [
    "conFrameF = pd.DataFrame(frightControl)\n",
    "conFrameF['group'] = 'Control'\n",
    "mrFrameF = pd.DataFrame(frightMr)\n",
    "mrFrameF['group'] = 'MetR'\n",
    "frightPlot = pd.concat([conFrameF, mrFrameF])\n",
    "frightPlot.columns = ['Age', 'Group']\n",
    "fp = sns.boxplot(x = \"Group\", y = \"Age\", data = frightPlot)"
   ]
  },
  {
   "cell_type": "markdown",
   "metadata": {},
   "source": [
    "#### Compute AFRAID score for control vs methionine restricted animals"
   ]
  },
  {
   "cell_type": "code",
   "execution_count": null,
   "metadata": {},
   "outputs": [],
   "source": [
    "afraidControl = afraidScore.predict(controlData[afraidVariables])\n",
    "afraidMr = afraidScore.predict(mrData[afraidVariables])"
   ]
  },
  {
   "cell_type": "code",
   "execution_count": null,
   "metadata": {},
   "outputs": [],
   "source": [
    "print('Median (months)')\n",
    "print('Control: ', np.median(afraidControl/30.5))\n",
    "print('MetR: ', np.median(afraidMr/30.5))\n",
    "print('Mean (months)')\n",
    "print('Control: ', np.mean(afraidControl/30.5))\n",
    "print('MetR: ', np.mean(afraidMr/30.5))\n",
    "print('Standard deviation (months)')\n",
    "print('Control: ', np.std(afraidControl/30.5))\n",
    "print('MetR: ', np.std(afraidMr/30.5))\n",
    "print('P-value')\n",
    "print(round(stats.ttest_ind(afraidControl, afraidMr).pvalue, 4))"
   ]
  },
  {
   "cell_type": "markdown",
   "metadata": {},
   "source": [
    "#### Create dataframe of Afraid scores and plot by group"
   ]
  },
  {
   "cell_type": "code",
   "execution_count": null,
   "metadata": {},
   "outputs": [],
   "source": [
    "conFrameA = pd.DataFrame(afraidControl)\n",
    "conFrameA['group'] = 'Control'\n",
    "mrFrameA = pd.DataFrame(afraidMr)\n",
    "mrFrameA['group'] = 'MetR'\n",
    "afraidPlot = pd.concat([conFrameA, mrFrameA])\n",
    "afraidPlot.columns = ['Age', 'Group']\n",
    "fp = sns.boxplot(x = \"Group\", y = \"Age\", data = afraidPlot)"
   ]
  }
 ],
 "metadata": {
  "kernelspec": {
   "display_name": "Python 3",
   "language": "python",
   "name": "python3"
  },
  "language_info": {
   "codemirror_mode": {
    "name": "ipython",
    "version": 3
   },
   "file_extension": ".py",
   "mimetype": "text/x-python",
   "name": "python",
   "nbconvert_exporter": "python",
   "pygments_lexer": "ipython3",
   "version": "3.6.7"
  }
 },
 "nbformat": 4,
 "nbformat_minor": 2
}
