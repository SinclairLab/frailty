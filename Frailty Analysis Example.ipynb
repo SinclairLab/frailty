{
 "cells": [
  {
   "cell_type": "markdown",
   "metadata": {},
   "source": [
    "# Setup"
   ]
  },
  {
   "cell_type": "markdown",
   "metadata": {},
   "source": [
    "## Load required packages"
   ]
  },
  {
   "cell_type": "code",
   "execution_count": 35,
   "metadata": {
    "collapsed": true,
    "scrolled": true
   },
   "outputs": [],
   "source": [
    "from sklearn.externals import joblib\n",
    "import pandas as pd\n",
    "import numpy as np\n",
    "from scipy import stats\n",
    "import seaborn as sns"
   ]
  },
  {
   "cell_type": "markdown",
   "metadata": {},
   "source": [
    "## Load sample data and split into control and methionine restricted groups"
   ]
  },
  {
   "cell_type": "code",
   "execution_count": 36,
   "metadata": {
    "collapsed": true
   },
   "outputs": [],
   "source": [
    "sampleData = pd.read_csv('sampleData.csv')\n",
    "controlData = sampleData[(sampleData['Group']=='Con')]\n",
    "mrData = sampleData[(sampleData['Group']=='MetR')]"
   ]
  },
  {
   "cell_type": "markdown",
   "metadata": {},
   "source": [
    "## Load the FRIGHT age and AFRAID clock models"
   ]
  },
  {
   "cell_type": "code",
   "execution_count": 37,
   "metadata": {
    "scrolled": true
   },
   "outputs": [],
   "source": [
    "frightAge = joblib.load('fright_age.sav')\n",
    "afraidScore = joblib.load('afraid_score.sav')"
   ]
  },
  {
   "cell_type": "markdown",
   "metadata": {},
   "source": [
    "## Initialize selection variables for models"
   ]
  },
  {
   "cell_type": "code",
   "execution_count": 38,
   "metadata": {
    "collapsed": true
   },
   "outputs": [],
   "source": [
    "frightVariables = ['Tail_stiffening',\n",
    " 'Breathing_rate_depth',\n",
    " 'Gait_disorders',\n",
    " 'Hearing_loss',\n",
    " 'Kyphosis',\n",
    " 'Tremor',\n",
    " 'Body_condition_score',\n",
    " 'Forelimb_grip_strength',\n",
    " '%twc',\n",
    " 'Menace_reflex',\n",
    " 'Alopecia',\n",
    " 'Tumours',\n",
    " 'Diarrhoea',\n",
    " 'Vaginal_uterine_penile_prolapse',\n",
    " 'Microphthalmia',\n",
    " 'Dermatitis',\n",
    " 'Rectal_prolapse',\n",
    " 'Distended_abdomen',\n",
    " 'Eye_discharge_swelling',\n",
    " 'Coat_condition',\n",
    " 'Body_Weight_Score']"
   ]
  },
  {
   "cell_type": "code",
   "execution_count": 39,
   "metadata": {
    "collapsed": true
   },
   "outputs": [],
   "source": [
    "afraidVariables = ['Body_Weight_Score',\n",
    " 'Alopecia',\n",
    " 'Loss_of_fur_colour',\n",
    " 'Dermatitis',\n",
    " 'Loss_of_whiskers',\n",
    " 'Coat_condition',\n",
    " 'Tumours',\n",
    " 'Distended_abdomen',\n",
    " 'Kyphosis',\n",
    " 'Tail_stiffening',\n",
    " 'Gait_disorders',\n",
    " 'Tremor',\n",
    " 'Forelimb_grip_strength',\n",
    " 'Body_condition_score',\n",
    " 'Vestibular_disturbance',\n",
    " 'Hearing_loss',\n",
    " 'Cataracts',\n",
    " 'Corneal_capacity',\n",
    " 'Eye_discharge_swelling',\n",
    " 'Microphthalmia',\n",
    " 'Vision_loss',\n",
    " 'Menace_reflex',\n",
    " 'Nasal_discharge',\n",
    " 'Rectal_prolapse',\n",
    " 'Vaginal_uterine_penile_prolapse',\n",
    " 'Diarrhoea',\n",
    " 'Breathing_rate_depth',\n",
    " 'Mouse_grimace_scale',\n",
    " 'Piloerection',\n",
    " '%twc',\n",
    " '%rwc',\n",
    " 'Thresh_%rwc',\n",
    " 'age_days']"
   ]
  },
  {
   "cell_type": "markdown",
   "metadata": {},
   "source": [
    "# FI Score"
   ]
  },
  {
   "cell_type": "markdown",
   "metadata": {},
   "source": [
    "## Print group stats"
   ]
  },
  {
   "cell_type": "code",
   "execution_count": 40,
   "metadata": {},
   "outputs": [
    {
     "name": "stdout",
     "output_type": "stream",
     "text": [
      "FI SCORE\n",
      "\n",
      "Median\n",
      "Control:  0.363\n",
      "MetR:  0.297\n",
      "\n",
      "Mean\n",
      "Control:  0.371\n",
      "MetR:  0.297\n",
      "\n",
      "Standard Deviation\n",
      "Control:  0.044\n",
      "MetR:  0.046\n",
      "\n",
      "P-value\n",
      "0.00092\n"
     ]
    }
   ],
   "source": [
    "print('FI SCORE')\n",
    "print('')\n",
    "print('Median')\n",
    "print('Control: ', round(np.median(controlData['FI']), 3))\n",
    "print('MetR: ', round(np.median(mrData['FI']),3))\n",
    "print('')\n",
    "print('Mean')\n",
    "print('Control: ', round(np.mean(controlData['FI']),3))\n",
    "print('MetR: ', round(np.mean(mrData['FI']),3))\n",
    "print('')\n",
    "print('Standard Deviation')\n",
    "print('Control: ', round(np.std(controlData['FI']),3))\n",
    "print('MetR: ', round(np.std(mrData['FI']),3))\n",
    "print('')\n",
    "print(\"P-value\")\n",
    "print(round(stats.ttest_ind(controlData['FI'],mrData['FI']).pvalue, 5))"
   ]
  },
  {
   "cell_type": "markdown",
   "metadata": {},
   "source": [
    "# FRIGHT age  (apparent chronolocial age)"
   ]
  },
  {
   "cell_type": "markdown",
   "metadata": {},
   "source": [
    "## Compute FRIGHT age for all animals"
   ]
  },
  {
   "cell_type": "code",
   "execution_count": 41,
   "metadata": {},
   "outputs": [],
   "source": [
    "frightControl = frightAge.predict(controlData[frightVariables])\n",
    "frightMr = frightAge.predict(mrData[frightVariables])"
   ]
  },
  {
   "cell_type": "markdown",
   "metadata": {},
   "source": [
    "## Print group stats"
   ]
  },
  {
   "cell_type": "code",
   "execution_count": 42,
   "metadata": {},
   "outputs": [
    {
     "name": "stdout",
     "output_type": "stream",
     "text": [
      "FRIGHT age\n",
      "\n",
      "Median (months)\n",
      "Control:  29.851\n",
      "MetR:  29.246\n",
      "\n",
      "Mean (months)\n",
      "Control:  29.838\n",
      "MetR:  29.105\n",
      "\n",
      "Standard deviation (months)\n",
      "Control:  0.933\n",
      "MetR:  0.625\n",
      "\n",
      "P-value\n",
      "0.0392\n"
     ]
    }
   ],
   "source": [
    "print('FRIGHT age')\n",
    "print('')\n",
    "print('Median (months)')\n",
    "print('Control: ', round(np.median(frightControl/30.5),3))\n",
    "print('MetR: ', round(np.median(frightMr/30.5),3))\n",
    "print('')\n",
    "print('Mean (months)')\n",
    "print('Control: ', round(np.mean(frightControl/30.5),3))\n",
    "print('MetR: ', round(np.mean(frightMr/30.5),3))\n",
    "print('')\n",
    "print('Standard deviation (months)')\n",
    "print('Control: ', round(np.std(frightControl/30.5),3))\n",
    "print('MetR: ', round(np.std(frightMr/30.5),3))\n",
    "print('')\n",
    "print('P-value')\n",
    "print(round(stats.ttest_ind(frightControl, frightMr).pvalue, 5))"
   ]
  },
  {
   "cell_type": "markdown",
   "metadata": {},
   "source": [
    "## Print values for individual animals (in days)"
   ]
  },
  {
   "cell_type": "code",
   "execution_count": 43,
   "metadata": {},
   "outputs": [
    {
     "data": {
      "text/plain": [
       "[906.5254557010281,\n",
       " 910.4431049600132,\n",
       " 920.5809338621036,\n",
       " 892.4966318086697,\n",
       " 986.8728035413592,\n",
       " 911.1875360226225,\n",
       " 876.1626057483616,\n",
       " 876.4197025567004,\n",
       " 920.8527618475985,\n",
       " 911.8951039741806,\n",
       " 897.2342641844499]"
      ]
     },
     "execution_count": 43,
     "metadata": {},
     "output_type": "execute_result"
    }
   ],
   "source": [
    "list(frightControl)"
   ]
  },
  {
   "cell_type": "code",
   "execution_count": 44,
   "metadata": {},
   "outputs": [
    {
     "data": {
      "text/plain": [
       "[892.4243349910338,\n",
       " 889.247139715033,\n",
       " 892.006170780089,\n",
       " 892.4243349910338,\n",
       " 892.006170780089,\n",
       " 888.74790951142,\n",
       " 856.5741406918482,\n",
       " 843.20963726519,\n",
       " 908.4356910890928,\n",
       " 912.5545719679952,\n",
       " 872.2554723129808,\n",
       " 893.0278020781618,\n",
       " 907.2403788077982]"
      ]
     },
     "execution_count": 44,
     "metadata": {},
     "output_type": "execute_result"
    }
   ],
   "source": [
    "list(frightMr)"
   ]
  },
  {
   "cell_type": "markdown",
   "metadata": {},
   "source": [
    "# AFRAID clock (life expectency)"
   ]
  },
  {
   "cell_type": "markdown",
   "metadata": {},
   "source": [
    "## Compute AFRAID clock scores for all animals"
   ]
  },
  {
   "cell_type": "code",
   "execution_count": 45,
   "metadata": {
    "collapsed": true
   },
   "outputs": [],
   "source": [
    "afraidControl = afraidScore.predict(controlData[afraidVariables])\n",
    "afraidMr = afraidScore.predict(mrData[afraidVariables])"
   ]
  },
  {
   "cell_type": "markdown",
   "metadata": {},
   "source": [
    "## Print group stats"
   ]
  },
  {
   "cell_type": "code",
   "execution_count": 46,
   "metadata": {},
   "outputs": [
    {
     "name": "stdout",
     "output_type": "stream",
     "text": [
      "AFRAID clock\n",
      "\n",
      "Median (months)\n",
      "Control:  3.409\n",
      "MetR:  3.943\n",
      "\n",
      "Mean (months)\n",
      "Control:  2.998\n",
      "MetR:  4.291\n",
      "\n",
      "Standard deviation (months)\n",
      "Control:  0.987\n",
      "MetR:  1.012\n",
      "\n",
      "P-value\n",
      "0.0063\n"
     ]
    }
   ],
   "source": [
    "print('AFRAID clock')\n",
    "print('')\n",
    "print('Median (months)')\n",
    "print('Control: ', round(np.median(afraidControl/30.5),3))\n",
    "print('MetR: ', round(np.median(afraidMr/30.5),3))\n",
    "print('')\n",
    "print('Mean (months)')\n",
    "print('Control: ', round(np.mean(afraidControl/30.5),3))\n",
    "print('MetR: ', round(np.mean(afraidMr/30.5),3))\n",
    "print('')\n",
    "print('Standard deviation (months)')\n",
    "print('Control: ', round(np.std(afraidControl/30.5),3))\n",
    "print('MetR: ', round(np.std(afraidMr/30.5),3))\n",
    "print('')\n",
    "print('P-value')\n",
    "print(round(stats.ttest_ind(afraidControl, afraidMr).pvalue, 5))"
   ]
  },
  {
   "cell_type": "markdown",
   "metadata": {},
   "source": [
    "## Print values for individual animals (in days)"
   ]
  },
  {
   "cell_type": "code",
   "execution_count": 47,
   "metadata": {},
   "outputs": [
    {
     "data": {
      "text/plain": [
       "[99.48259835982417,\n",
       " 102.14873966424624,\n",
       " 45.634234637296274,\n",
       " 108.21952020717261,\n",
       " 40.131387641238604,\n",
       " 103.96262938322413,\n",
       " 126.11204087970457,\n",
       " 117.77276090665998,\n",
       " 45.42377074824414,\n",
       " 103.98167668994626,\n",
       " 112.83328173211365]"
      ]
     },
     "execution_count": 47,
     "metadata": {},
     "output_type": "execute_result"
    }
   ],
   "source": [
    "list(afraidControl)"
   ]
  },
  {
   "cell_type": "code",
   "execution_count": 48,
   "metadata": {},
   "outputs": [
    {
     "data": {
      "text/plain": [
       "[109.68287301170358,\n",
       " 139.58458477843834,\n",
       " 106.4091688685598,\n",
       " 91.4746091812828,\n",
       " 135.20402086497273,\n",
       " 147.35352153133655,\n",
       " 183.53558262735817,\n",
       " 203.1706251612565,\n",
       " 120.26765443716283,\n",
       " 115.65490812275911,\n",
       " 133.38978132407246,\n",
       " 106.77442925153603,\n",
       " 108.76073603307991]"
      ]
     },
     "execution_count": 48,
     "metadata": {},
     "output_type": "execute_result"
    }
   ],
   "source": [
    "list(afraidMr)"
   ]
  }
 ],
 "metadata": {
  "kernelspec": {
   "display_name": "Python 3",
   "language": "python",
   "name": "python3"
  },
  "language_info": {
   "codemirror_mode": {
    "name": "ipython",
    "version": 3
   },
   "file_extension": ".py",
   "mimetype": "text/x-python",
   "name": "python",
   "nbconvert_exporter": "python",
   "pygments_lexer": "ipython3",
   "version": "3.6.1"
  },
  "toc": {
   "base_numbering": 1,
   "nav_menu": {},
   "number_sections": true,
   "sideBar": true,
   "skip_h1_title": false,
   "title_cell": "Table of Contents",
   "title_sidebar": "Contents",
   "toc_cell": false,
   "toc_position": {},
   "toc_section_display": true,
   "toc_window_display": false
  }
 },
 "nbformat": 4,
 "nbformat_minor": 2
}
